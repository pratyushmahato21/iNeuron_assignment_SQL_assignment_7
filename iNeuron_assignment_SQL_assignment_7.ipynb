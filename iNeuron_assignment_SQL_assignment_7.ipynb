{
 "cells": [
  {
   "cell_type": "markdown",
   "id": "16fca1ae",
   "metadata": {},
   "source": [
    "Q-13. Write an SQL query to show only odd rows from a table."
   ]
  },
  {
   "cell_type": "markdown",
   "id": "b72b8b0f",
   "metadata": {},
   "source": [
    "SELECT new_table.SNo, new_table.first_name \n",
    "FROM \n",
    "(SELECT ROW_NUMBER() OVER (ORDER BY first_name) AS SNo, first_name, last_name\n",
    "FROM WORKER) AS new_table\n",
    "WHERE (new_table.SNo % 2) = 1 \n",
    "ORDER BY new_table.SNo;"
   ]
  },
  {
   "cell_type": "markdown",
   "id": "20f62e00",
   "metadata": {},
   "source": [
    "Q-14. Write an SQL query to clone a new table from another table."
   ]
  },
  {
   "cell_type": "markdown",
   "id": "1c81ef6a",
   "metadata": {},
   "source": [
    "CREATE TABLE worker_copy(emp_no INT, full_name VARCHAR(30), first_name VARCHAR(30), last_name VARCHAR(30), department VARCHAR(30));\n",
    "\n",
    "\n",
    "\n",
    "INSERT INTO worker_copy(emp_no, full_name, first_name, last_name, department)\n",
    "SELECT emp_no, full_name, first_name, last_name, department FROM worker;"
   ]
  },
  {
   "cell_type": "code",
   "execution_count": null,
   "id": "a3c5cc29",
   "metadata": {},
   "outputs": [],
   "source": []
  }
 ],
 "metadata": {
  "kernelspec": {
   "display_name": "Python 3 (ipykernel)",
   "language": "python",
   "name": "python3"
  },
  "language_info": {
   "codemirror_mode": {
    "name": "ipython",
    "version": 3
   },
   "file_extension": ".py",
   "mimetype": "text/x-python",
   "name": "python",
   "nbconvert_exporter": "python",
   "pygments_lexer": "ipython3",
   "version": "3.8.12"
  }
 },
 "nbformat": 4,
 "nbformat_minor": 5
}
